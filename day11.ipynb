{
 "cells": [
  {
   "cell_type": "code",
   "execution_count": null,
   "metadata": {},
   "outputs": [],
   "source": [
    "def arithmetic_arranger(problems, answer_ok=False):\n",
    "    \n",
    "    arranged_problems = list() #Deberia devolver un string con formato\n",
    "    summ_result = list()\n",
    "    for problem in problems:\n",
    "        summ = problem.split()  \n",
    "        arranged_problems.append(summ)\n",
    "        if summ[1] == '+':\n",
    "            summ_result.append(int(summ[0]) + int(summ[2]))\n",
    "        elif summ[1] == '-':\n",
    "            summ_result.append(int(summ[0]) - int(summ[2]))\n",
    "    \n",
    "    \n",
    "            \n",
    "    for i in range(len(arranged_problems)):\n",
    "        superstring = f'{arranged_problems[i][0]}\\t'.rjust(4)\n",
    "        print(superstring, end='')\n",
    "    \n",
    "    \n",
    "    return arranged_problems  \n"
   ]
  },
  {
   "cell_type": "code",
   "execution_count": null,
   "metadata": {},
   "outputs": [],
   "source": []
  },
  {
   "cell_type": "code",
   "execution_count": null,
   "metadata": {},
   "outputs": [],
   "source": [
    "def arithmetic_arranger(problems, answer_ok=False):\n",
    "    assert len(problems) == 4 , \"Error: Too many problems.\"\n",
    "    \n",
    "    arranged_problems = str()\n",
    "    sumas_result = list()\n",
    "    sumandos_sup = list()\n",
    "    sumandos_inf = list()\n",
    "    # Sumas rebanadas y resultados    \n",
    "    sumas_result = [eval(problem) for problem in problems]\n",
    "    \n",
    "    for problem in problems:\n",
    "        sum1, op , sum2 = problem.split()\n",
    "        sumandos_sup.append(int(sum1))\n",
    "        sumandos_inf.append(int(sum2) if op == '+' else -int(sum2))\n",
    "    #x_new = '{:5d}\\t{:5d}\\t{:5d}\\t{:5d}'.format(32, 3801, 45, 123)\n",
    "    x_new = '{ss[0]:5d}\\t{ss[1]:5d}\\t{ss[2]:5d}\\t{ss[3]:5d}'.format(ss=sumandos_sup)\n",
    "    #x_new1 = '{:=+5d}\\t{:=5d}\\t{:=+5d}\\t{:=+5d}'.format(698, -2, 43, 49)\n",
    "    x_new1 = '{si[0]:=+5d}\\t{si[1]:=+5d}\\t{si[2]:=+5d}\\t{si[3]:=+5d}'.format(si=sumandos_inf)\n",
    "    x_line = '{:{width}s}\\t{:{width}s}\\t{:{width}s}\\t{:{width}s}'.format('-----', '-----', '-----', '-----', width=5)\n",
    "    #x_result = '{:5d}\\t{:5d}\\t{:5d}\\t{:5d}'.format(730, 3799, 88, 172)\n",
    "    x_result = '{s[0]:5d}\\t{s[1]:5d}\\t{s[2]:5d}\\t{s[3]:5d}'.format(s=sumas_result)\n",
    "    arranged_problems = x_new +'\\n' + x_new1 +'\\n' + x_line +(('\\n' + x_result) if answer_ok else '')\n",
    "   \n",
    "    return arranged_problems"
   ]
  },
  {
   "cell_type": "code",
   "execution_count": null,
   "metadata": {},
   "outputs": [],
   "source": [
    "print(arithmetic_arranger([\"32 + 698\", \"3801 - 2\", \"45 + 43\", \"123 + 49\"]))"
   ]
  },
  {
   "cell_type": "code",
   "execution_count": null,
   "metadata": {},
   "outputs": [],
   "source": [
    "arithmetic_arranger([\"32 + 8\", \"1 - 3801\", \"9999 + 9999\", \"523 - 49\"],True)"
   ]
  },
  {
   "cell_type": "code",
   "execution_count": null,
   "metadata": {},
   "outputs": [],
   "source": [
    "def longitud_guion(long = int ):\n",
    "    line = ''\n",
    "    for i in range(long):\n",
    "        line += '-'\n",
    "    return line\n",
    "\n",
    "print(longitud_guion(5))"
   ]
  },
  {
   "cell_type": "code",
   "execution_count": null,
   "metadata": {},
   "outputs": [],
   "source": [
    "x = [\"32 + 8\", \"1 - 3801\", \"9999 + 9999\", \"523 - 49\"]\n",
    "\n",
    "def appropiated_operator(problems):\n",
    "    operator_ok = False\n",
    "    for problem in problems:\n",
    "        operator_scan = problem.split()\n",
    "        if operator_scan[1] == '+' or operator_scan[1] == '-':\n",
    "            operator_ok == True\n",
    "        else:\n",
    "            print( \"Error: Operator must be '+' or '-'.\")\n",
    "\n"
   ]
  },
  {
   "cell_type": "code",
   "execution_count": null,
   "metadata": {},
   "outputs": [],
   "source": [
    "def arithmetic_arranger(problems, answer_ok=False):\n",
    "    assert len(problems) == 4 , \"Error: Too many problems.\"\n",
    "    \n",
    "    arranged_problems = str()\n",
    "    sumas_result = list()\n",
    "    sumandos_sup = list()\n",
    "    sumandos_inf = list()\n",
    "\n",
    "    sumas_result = [eval(problem) for problem in problems]\n",
    "    \n",
    "    for problem in problems:\n",
    "        sum1, op , sum2 = problem.split()\n",
    "        sumandos_sup.append(int(sum1))\n",
    "        sumandos_inf.append(int(sum2) if op == '+' else -int(sum2))\n",
    "    x_new = '{ss[0]:5d}\\t{ss[1]:5d}\\t{ss[2]:5d}\\t{ss[3]:5d}'.format(ss=sumandos_sup)\n",
    "    x_new1 = '{si[0]:=+5d}\\t{si[1]:=+5d}\\t{si[2]:=+5d}\\t{si[3]:=+5d}'.format(si=sumandos_inf)\n",
    "    x_line = '{:{width}s}\\t{:{width}s}\\t{:{width}s}\\t{:{width}s}'.format('-----', '-----', '-----', '-----', width=5)\n",
    "    \n",
    "    x_result = '{s[0]:5d}\\t{s[1]:5d}\\t{s[2]:5d}\\t{s[3]:5d}'.format(s=sumas_result)\n",
    "    arranged_problems = x_new +'\\n' + x_new1 +'\\n' + x_line +(('\\n' + x_result) if answer_ok else '')\n",
    "   \n",
    "    return arranged_problems"
   ]
  },
  {
   "cell_type": "code",
   "execution_count": null,
   "metadata": {},
   "outputs": [],
   "source": [
    "print(arithmetic_arranger([\"32 + 8\", \"1 - 3801\", \"9999 + 9999\", \"523 - 49\"]))"
   ]
  },
  {
   "cell_type": "code",
   "execution_count": null,
   "metadata": {},
   "outputs": [],
   "source": [
    "arithmetic_arranger([\"32 + 8\", \"1 - 3801\", \"9999 + 9999\", \"523 - 49\"],True)"
   ]
  },
  {
   "cell_type": "markdown",
   "metadata": {},
   "source": [
    "## Version 2"
   ]
  },
  {
   "cell_type": "code",
   "execution_count": null,
   "metadata": {},
   "outputs": [],
   "source": [
    "def arithmetic_arranger(problems, answer_ok=False):\n",
    "    arranged_problems = str()\n",
    "    sumas_result = list()\n",
    "    sumandos_sup = list()\n",
    "    sumandos_inf = list()\n",
    "    linea = list()\n",
    "    #sumas_result = [eval(problem) for problem in problems]\n",
    "    \n",
    "    for problem in problems:\n",
    "        sum1, op , sum2 = problem.split()\n",
    "        \n",
    "        espaciado=max(len(sum1),len(sum2))\n",
    "        #print(espaciado)\n",
    "        sumandos_sup.append('{: >{esp}}'.format(sum1, esp = espaciado + 2))\n",
    "        sumandos_inf.append(op + '{: >{esp}}'.format(sum2, esp = espaciado + 1))\n",
    "        linea.append('{:->{width}s}'.format('', width=espaciado + 2))\n",
    "        sumas_result.append('{: >{esp}}'.format(eval(problem), esp = espaciado + 2))    \n",
    "       \n",
    "    \n",
    "        \n",
    "        #sum_output1 = '{ss[0]:{esp}}\\t{ss[1]:{esp}}\\t{ss[2]:{esp}}\\t{ss[3]:{esp}}'.format(ss=sumandos_sup, esp = espaciado+1)\n",
    "        #sum_output2 = '{si[0]}\\t{si[1]}\\t{si[2]}\\t{si[3]}'.format(si=sumandos_inf)\n",
    "        #sum_output3line = '{lin[0]}\\t{lin[1]}\\t{lin[2]}\\t{lin[3]}'.format(lin = linea)\n",
    "        #arranged_problems =sum_output1 +'\\n' + sum_output2 +'\\n' + sum_output3line\n",
    "    print(sumandos_sup)\n",
    "    print(sumandos_inf) \n",
    "    print(linea)\n",
    "    print(sumas_result)\n",
    "\n",
    "    #sum_output1\n",
    "    sum_output1 = ''\n",
    "    for sum_sup in sumandos_sup:\n",
    "        sum_output1 += (sum_sup + '\\t')\n",
    "    #print(sum_output1)  \n",
    "    #sum_output2  \n",
    "    sum_output2 = ''\n",
    "    for sum_inf in sumandos_inf:\n",
    "        sum_output2 += (sum_inf + '\\t')\n",
    "    #print(sum_output2)    \n",
    "    #sum_output3line\n",
    "    sum_output3line = ''\n",
    "    for sum_line in linea:\n",
    "        sum_output3line += (sum_line + '\\t')\n",
    "    #print(sum_output3line)\n",
    "    #sum_output4_result\n",
    "    sum_output4_result = ''\n",
    "    for sum_result in sumas_result:\n",
    "        sum_output4_result += (sum_result + '\\t')\n",
    "    #print(sum_output4_result)\n",
    "\n",
    "    #sum_output1 = '{ss[0]:5d}\\t{ss[1]:5d}\\t{ss[2]:5d}\\t{ss[3]:5d}'.format(ss=sumandos_sup)\n",
    "    #sum_output2 = '{si[0]:=+5d}\\t{si[1]:=+5d}\\t{si[2]:=+5d}\\t{si[3]:=+5d}'.format(si=sumandos_inf)\n",
    "    #sum_output3line = '{:{width}s}\\t{:{width}s}\\t{:{width}s}\\t{:{width}s}'.format('-----', '-----', '-----', '-----', width=5)\n",
    "    arranged_problems = sum_output1 +'\\n' + sum_output2 +'\\n' + sum_output3line + (('\\n' + sum_output4_result) if answer_ok else '')\n",
    "    \n",
    "    return arranged_problems"
   ]
  },
  {
   "cell_type": "code",
   "execution_count": null,
   "metadata": {},
   "outputs": [],
   "source": [
    "print(arithmetic_arranger([\"32 + 8\", \"1 - 3801\", \"9999 + 9999\", \"523 - 49\"], True))"
   ]
  },
  {
   "cell_type": "code",
   "execution_count": null,
   "metadata": {},
   "outputs": [],
   "source": [
    "print(arithmetic_arranger([\"32 + 698\", \"3801 - 2\", \"45 + 43\", \"123 + 49\"]))"
   ]
  },
  {
   "cell_type": "markdown",
   "metadata": {},
   "source": [
    "### Subrutinas"
   ]
  },
  {
   "cell_type": "code",
   "execution_count": null,
   "metadata": {},
   "outputs": [],
   "source": [
    "def espaciado_sumas(longitud):\n",
    "    x_new = '{:{long}d}\\t{:{long}d}\\t{:{long}d}\\t{:{long}d}'.format(32, 3801, 45, 123,long=longitud)\n",
    "    print(x_new)\n",
    "    x_new1 = '{:=+{long}d}\\t{:={long}d}\\t{:=+{long}d}\\t{:=+{long}d}'.format(698, -2, 43, 49,long=longitud)\n",
    "    print(x_new1)\n",
    "\n",
    "espaciado_sumas(6)"
   ]
  },
  {
   "cell_type": "code",
   "execution_count": null,
   "metadata": {},
   "outputs": [],
   "source": [
    "print(max(1,2))\n",
    "print(len(\"\\t\"))"
   ]
  },
  {
   "cell_type": "markdown",
   "metadata": {},
   "source": [
    "## Version 3\n"
   ]
  },
  {
   "cell_type": "code",
   "execution_count": 9,
   "metadata": {},
   "outputs": [],
   "source": [
    "def arithmetic_arranger(problems, answer_ok=False):\n",
    "    if len(problems) > 5 : return \"Error: Too many problems.\"\n",
    "    \n",
    "    arranged_problems = str()\n",
    "    sumas_result = list()\n",
    "    sumandos_sup = list()\n",
    "    sumandos_inf = list()\n",
    "    linea = list()\n",
    "    \n",
    "    for problem in problems:\n",
    "        try:\n",
    "            sum1, op , sum2 = problem.split()\n",
    "        except ValueError as e:\n",
    "            print(e)\n",
    "            return 'Format is \"num1[blankSpace][operator][blankSpace]num2\" eg. \"num1 + num2\" or \"num1 - num2\" '\n",
    "        except AttributeError:\n",
    "            return \"Problem can't be None\"\n",
    "        except Exception:\n",
    "            return \"I don't know Rick\"\n",
    "        if not(sum1.isdigit()) or not(sum2.isdigit()):return \"Error: Numbers must only contain digits.\"\n",
    "        if len(sum1) > 4 or len(sum2) > 4: return \"Error: Numbers cannot be more than four digits.\" \n",
    "        if not(op == '+' or op == '-'):return \"Error: Operator must be '+' or '-'\"    \n",
    "        espaciado = max(len(sum1), len(sum2))\n",
    "        sumandos_sup.append('{: >{esp}}'.format(sum1, esp = espaciado + 2))\n",
    "        sumandos_inf.append(op + '{: >{esp}}'.format(sum2, esp = espaciado + 1))\n",
    "        linea.append('{:->{width}s}'.format('', width=espaciado + 2))\n",
    "        sumas_result.append('{: >{esp}}'.format(eval(problem), esp = espaciado + 2))    \n",
    "        \n",
    "    #sum_output1\n",
    "    sum_output1 = ''\n",
    "    for sum_sup in sumandos_sup:\n",
    "        sum_output1 += (sum_sup + '\\t')\n",
    "     #sum_output2  \n",
    "    sum_output2 = ''\n",
    "    for sum_inf in sumandos_inf:\n",
    "        sum_output2 += (sum_inf + '\\t')\n",
    "    #sum_output3line\n",
    "    sum_output3line = ''\n",
    "    for sum_line in linea:\n",
    "        sum_output3line += (sum_line + '\\t')\n",
    "    #sum_output4_result\n",
    "    sum_output4_result = ''\n",
    "    for sum_result in sumas_result:\n",
    "        sum_output4_result += (sum_result + '\\t')\n",
    "    \n",
    "    arranged_problems = sum_output1 +'\\n' + sum_output2 +'\\n' + sum_output3line + (('\\n' + sum_output4_result) if answer_ok else '')\n",
    "    \n",
    "    return arranged_problems"
   ]
  },
  {
   "cell_type": "code",
   "execution_count": 10,
   "metadata": {},
   "outputs": [
    {
     "name": "stdout",
     "output_type": "stream",
     "text": [
      "   32\t  3801\t  45\t  123\t\n",
      "+ 698\t-    2\t+ 43\t+  49\t\n",
      "-----\t------\t----\t-----\t\n"
     ]
    }
   ],
   "source": [
    "print(arithmetic_arranger([\"32 + 698\", \"3801 - 2\", \"45 + 43\", \"123 + 49\"]))"
   ]
  },
  {
   "cell_type": "code",
   "execution_count": 11,
   "metadata": {},
   "outputs": [
    {
     "name": "stdout",
     "output_type": "stream",
     "text": [
      "  32\t     1\t  9999\t  523\t\n",
      "+  8\t- 3801\t+ 9999\t-  49\t\n",
      "----\t------\t------\t-----\t\n",
      "  40\t -3800\t 19998\t  474\t\n"
     ]
    }
   ],
   "source": [
    "print(arithmetic_arranger([\"32 + 8\", \"1 - 3801\", \"9999 + 9999\", \"523 - 49\"], True))"
   ]
  },
  {
   "cell_type": "code",
   "execution_count": 4,
   "metadata": {},
   "outputs": [
    {
     "name": "stdout",
     "output_type": "stream",
     "text": [
      "     3\t  76\t\n",
      "- 6281\t- 68\t\n",
      "------\t----\t\n",
      " -6278\t   8\t\n"
     ]
    }
   ],
   "source": [
    "print(arithmetic_arranger([\"3 - 6281\", \"76 - 68\"], True))"
   ]
  },
  {
   "cell_type": "code",
   "execution_count": 5,
   "metadata": {},
   "outputs": [
    {
     "name": "stdout",
     "output_type": "stream",
     "text": [
      "Error: Numbers cannot be more than four digits.\n",
      "Error: Operator must be '+' or '-'\n",
      "not enough values to unpack (expected 3, got 2)\n",
      "Format is \"num1[blankSpace][operator][blankSpace]num2\" eg. \"num1 + num2\" or \"num1 - num2\" \n",
      "Error: Numbers must only contain digits.\n",
      "Error: Too many problems.\n",
      "Problem can't be None\n"
     ]
    }
   ],
   "source": [
    "print(arithmetic_arranger([\"3200 + 62381\", \"3801 - 2\", \"45 + 43\", \"123 + 49\"], True))\n",
    "print(arithmetic_arranger([\"3 * 6281\", \"3801 - 2\", \"45 + 43\", \"123 + 49\"], True))\n",
    "print(arithmetic_arranger([\"3+ 62\", \"3801 - 2\", \"45 + 43\", \"123 + 49\"], True))\n",
    "print(arithmetic_arranger([\"3va * 6281\", \"3801 - 2\", \"45 + 43\", \"123 + 49\"], True))\n",
    "print(arithmetic_arranger([\"35 + 6281\", \"3801 - 2\", \"45 + 43\", \"123 + 49\", \"21 + 23\", \"43 + 23\"], True))\n",
    "print(arithmetic_arranger([None], True))"
   ]
  }
 ],
 "metadata": {
  "interpreter": {
   "hash": "e7370f93d1d0cde622a1f8e1c04877d8463912d04d973331ad4851f04de6915a"
  },
  "kernelspec": {
   "display_name": "Python 3 (ipykernel)",
   "language": "python",
   "name": "python3"
  },
  "language_info": {
   "codemirror_mode": {
    "name": "ipython",
    "version": 3
   },
   "file_extension": ".py",
   "mimetype": "text/x-python",
   "name": "python",
   "nbconvert_exporter": "python",
   "pygments_lexer": "ipython3",
   "version": "3.9.7"
  }
 },
 "nbformat": 4,
 "nbformat_minor": 2
}
