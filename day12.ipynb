{
 "cells": [
  {
   "cell_type": "markdown",
   "metadata": {},
   "source": [
    "## Basic formatting"
   ]
  },
  {
   "cell_type": "code",
   "execution_count": 2,
   "metadata": {
    "scrolled": true
   },
   "outputs": [
    {
     "name": "stdout",
     "output_type": "stream",
     "text": [
      "one two\n",
      "one two\n",
      "two one\n"
     ]
    }
   ],
   "source": [
    "#Old Style\n",
    "x_old = '%s %s' %('one', 'two')\n",
    "print(x_old)\n",
    "\n",
    "#New Style\n",
    "x_new = '{} {}'.format('one', 'two')\n",
    "print(x_new)\n",
    "\n",
    "#Only New Style:\n",
    "x_new1 = '{1} {0}'.format('one', 'two')\n",
    "print(x_new1)"
   ]
  },
  {
   "cell_type": "markdown",
   "metadata": {},
   "source": [
    "## Padding and aligning strings"
   ]
  },
  {
   "cell_type": "markdown",
   "metadata": {},
   "source": [
    "### Align right:"
   ]
  },
  {
   "cell_type": "code",
   "execution_count": 9,
   "metadata": {},
   "outputs": [
    {
     "name": "stdout",
     "output_type": "stream",
     "text": [
      "      test\n",
      "      test\n"
     ]
    }
   ],
   "source": [
    "\n",
    "\n",
    "#Old Style\n",
    "x_old = '%10s' %('test')\n",
    "print(x_old)\n",
    "\n",
    "#New Style\n",
    "x_new = '{:>10}'.format('test')\n",
    "print(x_new)"
   ]
  },
  {
   "cell_type": "markdown",
   "metadata": {},
   "source": [
    "### Align left:"
   ]
  },
  {
   "cell_type": "code",
   "execution_count": 15,
   "metadata": {},
   "outputs": [
    {
     "name": "stdout",
     "output_type": "stream",
     "text": [
      "test      \n",
      "test      \n"
     ]
    }
   ],
   "source": [
    "#Old Style\n",
    "x_old = '%-10s' %('test')\n",
    "print(x_old)\n",
    "\n",
    "#New Style\n",
    "x_new = '{:10}'.format('test')\n",
    "print(x_new)"
   ]
  },
  {
   "cell_type": "markdown",
   "metadata": {},
   "source": [
    "Again, new style formatting surpasses the old variant by providing more control over how values are padded and aligned.\n"
   ]
  },
  {
   "cell_type": "code",
   "execution_count": 18,
   "metadata": {},
   "outputs": [
    {
     "name": "stdout",
     "output_type": "stream",
     "text": [
      "test______\n"
     ]
    }
   ],
   "source": [
    "#You are able to choose the padding character:\n",
    "x_new = '{:_<10}'.format('test')\n",
    "print(x_new)"
   ]
  },
  {
   "cell_type": "code",
   "execution_count": 24,
   "metadata": {},
   "outputs": [
    {
     "name": "stdout",
     "output_type": "stream",
     "text": [
      "   test   \n",
      "---test---\n",
      "+++test+++\n"
     ]
    }
   ],
   "source": [
    "#And also center align values:\n",
    "x_new = '{:^10}'.format('test')\n",
    "print(x_new)\n",
    "x_new1 = '{:-^10}'.format('test')\n",
    "print(x_new1)\n",
    "x_new2 = '{:+^10}'.format('test')\n",
    "print(x_new2)"
   ]
  },
  {
   "cell_type": "code",
   "execution_count": 27,
   "metadata": {},
   "outputs": [
    {
     "name": "stdout",
     "output_type": "stream",
     "text": [
      " zip  \n",
      "-zip--\n"
     ]
    }
   ],
   "source": [
    "#When using center alignment where the length of the string leads to an uneven split of the padding characters the extra character will be placed on the right side:\n",
    "x_new = '{:^6}'.format('zip')\n",
    "print(x_new)\n",
    "x_new1 = '{:-^6}'.format('zip')\n",
    "print(x_new1)"
   ]
  },
  {
   "cell_type": "markdown",
   "metadata": {},
   "source": [
    "## Truncating long strings\n"
   ]
  },
  {
   "cell_type": "code",
   "execution_count": 28,
   "metadata": {},
   "outputs": [
    {
     "name": "stdout",
     "output_type": "stream",
     "text": [
      "xylop\n"
     ]
    }
   ],
   "source": [
    "x_new = '{:.5}'.format('xylophone')\n",
    "print(x_new)"
   ]
  },
  {
   "cell_type": "markdown",
   "metadata": {},
   "source": [
    "### Combining truncating and padding"
   ]
  },
  {
   "cell_type": "code",
   "execution_count": 1,
   "metadata": {},
   "outputs": [
    {
     "name": "stdout",
     "output_type": "stream",
     "text": [
      "     xylop\n",
      "-----xylop\n"
     ]
    }
   ],
   "source": [
    "x_new = '{:>10.5}'.format('xylophone')\n",
    "print(x_new)\n",
    "x_new1 = '{:->10.5}'.format('xylophone')\n",
    "print(x_new1)"
   ]
  },
  {
   "cell_type": "markdown",
   "metadata": {},
   "source": [
    "## Numbers"
   ]
  },
  {
   "cell_type": "code",
   "execution_count": 36,
   "metadata": {},
   "outputs": [
    {
     "name": "stdout",
     "output_type": "stream",
     "text": [
      "42\n"
     ]
    }
   ],
   "source": [
    "#Intgegers:\n",
    "x_new = '{:d}'.format(42)\n",
    "print(x_new)"
   ]
  },
  {
   "cell_type": "code",
   "execution_count": 39,
   "metadata": {},
   "outputs": [
    {
     "name": "stdout",
     "output_type": "stream",
     "text": [
      "3.141593\n"
     ]
    }
   ],
   "source": [
    "#Floats:\n",
    "x_new = '{:f}'.format(3.141592653589793)\n",
    "print(x_new)"
   ]
  },
  {
   "cell_type": "markdown",
   "metadata": {},
   "source": [
    "### Padding numbers"
   ]
  },
  {
   "cell_type": "code",
   "execution_count": 48,
   "metadata": {},
   "outputs": [
    {
     "name": "stdout",
     "output_type": "stream",
     "text": [
      "  42\n",
      "--42\n"
     ]
    }
   ],
   "source": [
    "x_new = '{:4d}'.format(42)\n",
    "print(x_new)\n",
    "\n",
    "x_new1 = '{:->4d}'.format(42)\n",
    "print(x_new1)"
   ]
  },
  {
   "cell_type": "code",
   "execution_count": 56,
   "metadata": {},
   "outputs": [
    {
     "name": "stdout",
     "output_type": "stream",
     "text": [
      "003.142\n",
      "3.14200\n"
     ]
    }
   ],
   "source": [
    "x_new = '{:07.3f}'.format(3.141592653589793)\n",
    "print(x_new)\n",
    "\n",
    "x_new1 ='{:0<7.3f}'.format(3.141592653589793)\n",
    "print(x_new1)"
   ]
  },
  {
   "cell_type": "code",
   "execution_count": 1,
   "metadata": {},
   "outputs": [
    {
     "name": "stdout",
     "output_type": "stream",
     "text": [
      "0042\n"
     ]
    }
   ],
   "source": [
    "x_new = '{:04d}'.format(42)\n",
    "print(x_new)"
   ]
  },
  {
   "cell_type": "markdown",
   "metadata": {},
   "source": [
    "### Signed numbers"
   ]
  },
  {
   "cell_type": "code",
   "execution_count": 61,
   "metadata": {},
   "outputs": [
    {
     "name": "stdout",
     "output_type": "stream",
     "text": [
      "+42\n"
     ]
    }
   ],
   "source": [
    "x_new = '{:+d}'.format(42)\n",
    "print(x_new)"
   ]
  },
  {
   "cell_type": "code",
   "execution_count": 57,
   "metadata": {},
   "outputs": [
    {
     "name": "stdout",
     "output_type": "stream",
     "text": [
      "-23\n"
     ]
    }
   ],
   "source": [
    "x_new = '{: d}'.format((-23))\n",
    "print(x_new)"
   ]
  },
  {
   "cell_type": "code",
   "execution_count": 16,
   "metadata": {},
   "outputs": [
    {
     "name": "stdout",
     "output_type": "stream",
     "text": [
      " 42\n"
     ]
    }
   ],
   "source": [
    "x_new = '{: d}'.format(42)\n",
    "print(x_new)"
   ]
  },
  {
   "cell_type": "code",
   "execution_count": 21,
   "metadata": {},
   "outputs": [
    {
     "name": "stdout",
     "output_type": "stream",
     "text": [
      "-  23\n",
      "+  23\n"
     ]
    }
   ],
   "source": [
    "#New style formatting is also able to control the position of the sign symbol relative to the padding.\n",
    "x_new = '{:=5d}'.format((- 23))\n",
    "print(x_new)\n",
    "\n",
    "x_new1 = '{:=+5d}'.format(23)\n",
    "print(x_new1)"
   ]
  },
  {
   "cell_type": "markdown",
   "metadata": {},
   "source": [
    "## Named placeholders"
   ]
  },
  {
   "cell_type": "code",
   "execution_count": 23,
   "metadata": {},
   "outputs": [
    {
     "name": "stdout",
     "output_type": "stream",
     "text": [
      "Hodor Hodor!\n"
     ]
    }
   ],
   "source": [
    "data = {'first': 'Hodor', 'last': 'Hodor!'}\n",
    "x_new = '{first} {last}'.format(**data)\n",
    "print(x_new)"
   ]
  },
  {
   "cell_type": "markdown",
   "metadata": {},
   "source": [
    "_.format()_ also accepts keyword arguments."
   ]
  },
  {
   "cell_type": "code",
   "execution_count": 24,
   "metadata": {},
   "outputs": [
    {
     "name": "stdout",
     "output_type": "stream",
     "text": [
      "Hodor Hodor!\n"
     ]
    }
   ],
   "source": [
    "x_new = '{first} {last}'.format(first='Hodor', last='Hodor!')\n",
    "print(x_new)"
   ]
  },
  {
   "cell_type": "markdown",
   "metadata": {},
   "source": [
    "## Getitem and Getattr (or get item  and get atrribute)"
   ]
  },
  {
   "cell_type": "code",
   "execution_count": 25,
   "metadata": {},
   "outputs": [
    {
     "name": "stdout",
     "output_type": "stream",
     "text": [
      "Jean-Luc Picard\n"
     ]
    }
   ],
   "source": [
    "person = {'first': 'Jean-Luc', 'last': 'Picard'}\n",
    "x_new = '{p[first]} {p[last]}'.format(p = person)\n",
    "print(x_new)"
   ]
  },
  {
   "cell_type": "code",
   "execution_count": 26,
   "metadata": {},
   "outputs": [
    {
     "name": "stdout",
     "output_type": "stream",
     "text": [
      "15 42\n"
     ]
    }
   ],
   "source": [
    "data = [4, 8, 15, 16, 23, 42]\n",
    "x_new = '{d[2]} {d[5]}'.format(d = data)\n",
    "print(x_new)"
   ]
  },
  {
   "cell_type": "markdown",
   "metadata": {},
   "source": [
    "### As well as accessing attributes on objects via getattr():"
   ]
  },
  {
   "cell_type": "code",
   "execution_count": 29,
   "metadata": {},
   "outputs": [
    {
     "name": "stdout",
     "output_type": "stream",
     "text": [
      "red\n"
     ]
    }
   ],
   "source": [
    "class Plant(object):\n",
    "    type = 'tree'\n",
    "    atrr1 = 'red'\n",
    "\n",
    "x_new = '{p.atrr1}'.format(p=Plant())\n",
    "print(x_new)\n"
   ]
  },
  {
   "cell_type": "code",
   "execution_count": 30,
   "metadata": {},
   "outputs": [
    {
     "name": "stdout",
     "output_type": "stream",
     "text": [
      "tree: maple\n"
     ]
    }
   ],
   "source": [
    "# Both type of access can be freely mixed and arbitrarily nested:\n",
    "class Plant(object):\n",
    "    type = 'tree'\n",
    "    kinds = [{'name': 'oak'}, {'name': 'maple'}]\n",
    "\n",
    "x_new = '{p.type}: {p.kinds[1][name]}'.format(p=Plant())\n",
    "print(x_new)"
   ]
  },
  {
   "cell_type": "markdown",
   "metadata": {},
   "source": [
    "## Datetime"
   ]
  },
  {
   "cell_type": "code",
   "execution_count": 37,
   "metadata": {},
   "outputs": [
    {
     "name": "stdout",
     "output_type": "stream",
     "text": [
      "2022-04-30 11:16:00\n",
      "30-04-2022 11:16\n"
     ]
    }
   ],
   "source": [
    "from datetime import datetime\n",
    "date = datetime(2022, 4, 30, 11, 16)\n",
    "print(date)\n",
    "x_new = '{:%d-%m-%Y %H:%M}'.format(datetime(2022, 4, 30, 11, 16))\n",
    "print(x_new)"
   ]
  },
  {
   "cell_type": "markdown",
   "metadata": {},
   "source": [
    "## Parametrized formats"
   ]
  },
  {
   "cell_type": "code",
   "execution_count": 42,
   "metadata": {},
   "outputs": [
    {
     "name": "stdout",
     "output_type": "stream",
     "text": [
      "   test   \n",
      "   test   \n"
     ]
    }
   ],
   "source": [
    "# Parametrized alignment and width:\n",
    "x_new0 = '{:^10}'.format('test')\n",
    "print(x_new0)\n",
    "x_new = '{:{align}{width}}'.format('test', align='^', width=10)\n",
    "print(x_new)"
   ]
  },
  {
   "cell_type": "code",
   "execution_count": 45,
   "metadata": {},
   "outputs": [
    {
     "name": "stdout",
     "output_type": "stream",
     "text": [
      "Gib = 2.718\n",
      "Gib = 2.718\n"
     ]
    }
   ],
   "source": [
    "#Parametrized precision:\n",
    "x_new0 = '{:.3} = {:.3f}'.format('Gibberish', 2.7182)\n",
    "print(x_new0)\n",
    "x_new = '{:.{prec}} = {:.{prec}f}'.format('Gibberish', 2.7182, prec=3)\n",
    "print(x_new)\n"
   ]
  },
  {
   "cell_type": "code",
   "execution_count": 47,
   "metadata": {},
   "outputs": [
    {
     "name": "stdout",
     "output_type": "stream",
     "text": [
      " 2.72\n",
      " 2.72\n"
     ]
    }
   ],
   "source": [
    "# Width and precision:\n",
    "x_new0 = '{:5.2f}'.format(2.7182)\n",
    "print(x_new0)\n",
    "\n",
    "x_new = '{:{width}.{prec}f}'.format(2.7182, width=5, prec=2)\n",
    "print(x_new)"
   ]
  },
  {
   "cell_type": "code",
   "execution_count": 51,
   "metadata": {},
   "outputs": [
    {
     "name": "stdout",
     "output_type": "stream",
     "text": [
      "30-04-2022 11:16\n",
      "30-04-2022 11:16\n"
     ]
    }
   ],
   "source": [
    "# The components of a date-time can be set separately:\n",
    "from datetime import datetime\n",
    "date = datetime(2022, 4, 30, 11, 16)\n",
    "\n",
    "x_new0 = '{:%d-%m-%Y %H:%M}'.format(date)\n",
    "print(x_new0)\n",
    "\n",
    "x_new = '{:{dfmt} {tfmt}}'.format(date, dfmt='%d-%m-%Y', tfmt ='%H:%M')\n",
    "print(x_new)"
   ]
  },
  {
   "cell_type": "markdown",
   "metadata": {},
   "source": [
    "#### The nested formats can be positional arguments. Position depends on the order of the opening curly braces:"
   ]
  },
  {
   "cell_type": "code",
   "execution_count": 52,
   "metadata": {},
   "outputs": [
    {
     "name": "stdout",
     "output_type": "stream",
     "text": [
      "     +2.72\n"
     ]
    }
   ],
   "source": [
    "x_new = '{:{}{}{}.{}}'.format(2.7182818284, '>', '+', 10, 3)\n",
    "print(x_new)"
   ]
  },
  {
   "cell_type": "code",
   "execution_count": 54,
   "metadata": {},
   "outputs": [
    {
     "name": "stdout",
     "output_type": "stream",
     "text": [
      "     +2.72\n"
     ]
    }
   ],
   "source": [
    "# And of course keyword arguments can be added to the mix as before:\n",
    "x_new = '{:{}{sign}{}.{}}'.format(2.7182818284, '>', 10, 3, sign='+')\n",
    "print(x_new)"
   ]
  },
  {
   "cell_type": "markdown",
   "metadata": {},
   "source": [
    "## Custom objects"
   ]
  },
  {
   "cell_type": "markdown",
   "metadata": {},
   "source": [
    "The datetime example works through the use of the __format__() magic method. You can define custom format handling in your own objects by overriding this method. This gives you complete control over the format syntax used."
   ]
  },
  {
   "cell_type": "code",
   "execution_count": 55,
   "metadata": {},
   "outputs": [
    {
     "name": "stdout",
     "output_type": "stream",
     "text": [
      "I'm afraid I can't do that.\n"
     ]
    }
   ],
   "source": [
    "class HAL9000(object):\n",
    "\n",
    "    def __format__(self, format):\n",
    "        if (format == 'open-the-pod-bay-doors'):\n",
    "            return \"I'm afraid I can't do that.\"\n",
    "        return 'HAL 9000'\n",
    "\n",
    "x_new = '{:open-the-pod-bay-doors}'.format(HAL9000())\n",
    "print(x_new)"
   ]
  }
 ],
 "metadata": {
  "interpreter": {
   "hash": "e7370f93d1d0cde622a1f8e1c04877d8463912d04d973331ad4851f04de6915a"
  },
  "kernelspec": {
   "display_name": "Python 3 (ipykernel)",
   "language": "python",
   "name": "python3"
  },
  "language_info": {
   "codemirror_mode": {
    "name": "ipython",
    "version": 3
   },
   "file_extension": ".py",
   "mimetype": "text/x-python",
   "name": "python",
   "nbconvert_exporter": "python",
   "pygments_lexer": "ipython3",
   "version": "3.9.7"
  }
 },
 "nbformat": 4,
 "nbformat_minor": 2
}
